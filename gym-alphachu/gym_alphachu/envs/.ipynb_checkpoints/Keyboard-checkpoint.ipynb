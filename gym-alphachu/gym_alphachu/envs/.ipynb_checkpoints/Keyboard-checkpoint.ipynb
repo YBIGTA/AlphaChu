{
 "cells": [
  {
   "cell_type": "code",
   "execution_count": 1,
   "metadata": {},
   "outputs": [],
   "source": [
    "import keyboard"
   ]
  },
  {
   "cell_type": "markdown",
   "metadata": {},
   "source": [
    "# Actions\n",
    "- `jump`\n",
    "- `left`\n",
    "- `right`\n",
    "- `spike`\n",
    "- `left_spike`\n",
    "- `right_spike`\n",
    "- `up_spike`\n",
    "- `down_spike`\n",
    "- `up_left_spike`\n",
    "- `up_right_spike`"
   ]
  },
  {
   "cell_type": "code",
   "execution_count": 1,
   "metadata": {},
   "outputs": [],
   "source": [
    "import datetime\n",
    "import keyboard \n",
    "\n",
    "def get_keyboard_record(seconds=1):\n",
    "    start = datetime.datetime.now()\n",
    "    end = start + datetime.timedelta(seconds=seconds)\n",
    "    while True:\n",
    "        now = datetime.datetime.now()\n",
    "        try:\n",
    "            recorded = keyboard.record(until='esc')\n",
    "            if now==end:\n",
    "                return now, recorded\n",
    "        except:\n",
    "            break"
   ]
  },
  {
   "cell_type": "code",
   "execution_count": 2,
   "metadata": {},
   "outputs": [
    {
     "name": "stderr",
     "output_type": "stream",
     "text": [
      "Exception in thread Thread-4:\n",
      "Traceback (most recent call last):\n",
      "  File \"/Users/sungnampark/anaconda3/lib/python3.6/threading.py\", line 916, in _bootstrap_inner\n",
      "    self.run()\n",
      "  File \"/Users/sungnampark/anaconda3/lib/python3.6/threading.py\", line 864, in run\n",
      "    self._target(*self._args, **self._kwargs)\n",
      "  File \"/Users/sungnampark/anaconda3/lib/python3.6/site-packages/keyboard/__init__.py\", line 292, in listen\n",
      "    _os_keyboard.listen(self.direct_callback)\n",
      "  File \"/Users/sungnampark/anaconda3/lib/python3.6/site-packages/keyboard/_darwinkeyboard.py\", line 430, in listen\n",
      "    raise OSError(\"Error 13 - Must be run as administrator\")\n",
      "OSError: Error 13 - Must be run as administrator\n",
      "\n"
     ]
    }
   ],
   "source": [
    "a = get_keyboard_record()"
   ]
  },
  {
   "cell_type": "code",
   "execution_count": null,
   "metadata": {},
   "outputs": [],
   "source": []
  }
 ],
 "metadata": {
  "kernelspec": {
   "display_name": "Python 3",
   "language": "python",
   "name": "python3"
  },
  "language_info": {
   "codemirror_mode": {
    "name": "ipython",
    "version": 3
   },
   "file_extension": ".py",
   "mimetype": "text/x-python",
   "name": "python",
   "nbconvert_exporter": "python",
   "pygments_lexer": "ipython3",
   "version": "3.6.4"
  }
 },
 "nbformat": 4,
 "nbformat_minor": 2
}
