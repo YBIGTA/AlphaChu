{
 "cells": [
  {
   "cell_type": "markdown",
   "metadata": {},
   "source": [
    "# 1. 피카츄배구 실행 후 프로세스 핸들러 받아오기 "
   ]
  },
  {
   "cell_type": "code",
   "execution_count": 151,
   "metadata": {},
   "outputs": [],
   "source": [
    "import subprocess\n",
    "import os\n",
    "import win32gui"
   ]
  },
  {
   "cell_type": "code",
   "execution_count": 152,
   "metadata": {},
   "outputs": [],
   "source": [
    "def open_game():\n",
    "    process = subprocess.Popen(\"pika.exe\")"
   ]
  },
  {
   "cell_type": "code",
   "execution_count": 207,
   "metadata": {},
   "outputs": [],
   "source": [
    "open_game()"
   ]
  },
  {
   "cell_type": "code",
   "execution_count": 208,
   "metadata": {},
   "outputs": [],
   "source": [
    "def callback(hwnd, strings):\n",
    "    if win32gui.IsWindowVisible(hwnd):\n",
    "        window_title = win32gui.GetWindowText(hwnd)\n",
    "        left, top, right, bottom = win32gui.GetWindowRect(hwnd)\n",
    "        if window_title and right-left and bottom-top:\n",
    "            strings.append('0x{:08x}: \"{}\"'.format(hwnd, window_title))\n",
    "    return True"
   ]
  },
  {
   "cell_type": "code",
   "execution_count": 209,
   "metadata": {},
   "outputs": [],
   "source": [
    "win_list = []  # list of strings containing win handles and window titles\n",
    "win32gui.EnumWindows(callback, win_list) "
   ]
  },
  {
   "cell_type": "code",
   "execution_count": 210,
   "metadata": {},
   "outputs": [
    {
     "name": "stdout",
     "output_type": "stream",
     "text": [
      "0x006b0728: \"뫮먰귃궔궭귙?갏?拒걍艱微뺂( 긹??붎 )\"\n"
     ]
    }
   ],
   "source": [
    "for window in win_list:  # print results\n",
    "    if '뫮먰귃' in window:\n",
    "        print(window)\n",
    "        address = eval(window.split(\":\")[0])\n",
    "        window_name = eval(window.split(\":\")[1])\n",
    "        hwnd = win32gui.FindWindowEx(0, 0, None, window_name)"
   ]
  },
  {
   "cell_type": "code",
   "execution_count": 211,
   "metadata": {},
   "outputs": [
    {
     "data": {
      "text/plain": [
       "7014184"
      ]
     },
     "execution_count": 211,
     "metadata": {},
     "output_type": "execute_result"
    }
   ],
   "source": [
    "hwnd"
   ]
  },
  {
   "cell_type": "code",
   "execution_count": 212,
   "metadata": {},
   "outputs": [
    {
     "data": {
      "text/plain": [
       "7014184"
      ]
     },
     "execution_count": 212,
     "metadata": {},
     "output_type": "execute_result"
    }
   ],
   "source": [
    "address"
   ]
  },
  {
   "cell_type": "code",
   "execution_count": 213,
   "metadata": {},
   "outputs": [
    {
     "data": {
      "text/plain": [
       "'뫮먰귃궔궭귙?갏?拒걍艱微뺂( 긹??붎 )'"
      ]
     },
     "execution_count": 213,
     "metadata": {},
     "output_type": "execute_result"
    }
   ],
   "source": [
    "window_name"
   ]
  },
  {
   "cell_type": "markdown",
   "metadata": {},
   "source": [
    "# 2. 피카츄배구 핸들러 받고 State 구현"
   ]
  },
  {
   "cell_type": "code",
   "execution_count": 40,
   "metadata": {},
   "outputs": [],
   "source": [
    "import win32gui\n",
    "import win32ui\n",
    "from ctypes import windll\n",
    "from PIL import Image, ImageGrab\n",
    "import numpy as np\n",
    "\n",
    "class State:\n",
    "    def __init__(self, handler, config):\n",
    "        \"\"\"\n",
    "        :param handler: 피카츄배구의 윈도우 핸들러 번호\n",
    "        :param config.image_size: 미리 이미지의 사이즈를 정할 수 있음\n",
    "        \"\"\"\n",
    "        self.handler = handler\n",
    "        left, top, right, bottom = win32gui.GetWindowRect(self.handler)\n",
    "        self.bbox = (left+10, top+50, right-5, bottom-20)\n",
    "        self.image_size = config.image_size\n",
    "        \n",
    "    def get_state(self, gray=True):\n",
    "        \"\"\"Get image array of state\n",
    "        :param gray: if true, get grayscale image (default True)\n",
    "        \"\"\"\n",
    "        img = ImageGrab.grab(self.bbox)\n",
    "        img = img.resize(self.image_size, Image.ANTIALIAS)\n",
    "        if gray:\n",
    "            img = img.convert(\"L\")\n",
    "        img_array = np.array(img, dtype=np.uint8)\n",
    "        return img_array"
   ]
  },
  {
   "cell_type": "code",
   "execution_count": 41,
   "metadata": {},
   "outputs": [],
   "source": [
    "class Config:\n",
    "    def __init__(self):\n",
    "        self.image_size = [84,84]"
   ]
  },
  {
   "cell_type": "code",
   "execution_count": 42,
   "metadata": {},
   "outputs": [],
   "source": [
    "s = State(hwnd, Config())"
   ]
  },
  {
   "cell_type": "code",
   "execution_count": 43,
   "metadata": {},
   "outputs": [],
   "source": [
    "state = s.get_state()"
   ]
  },
  {
   "cell_type": "code",
   "execution_count": 44,
   "metadata": {},
   "outputs": [
    {
     "data": {
      "image/png": "[encoded data removed]",
      "text/plain": [
       "<PIL.Image.Image image mode=L size=84x84 at 0x2794F368978>"
      ]
     },
     "execution_count": 44,
     "metadata": {},
     "output_type": "execute_result"
    }
   ],
   "source": [
    "Image.fromarray(state)"
   ]
  },
  {
   "cell_type": "markdown",
   "metadata": {},
   "source": [
    "# 3. 피카츄배구 핸들러 받고 점수 구하기"
   ]
  },
  {
   "cell_type": "code",
   "execution_count": 114,
   "metadata": {},
   "outputs": [],
   "source": [
    "import ctypes\n",
    "import win32process"
   ]
  },
  {
   "cell_type": "code",
   "execution_count": 46,
   "metadata": {},
   "outputs": [],
   "source": [
    "open_process = ctypes.windll.kernel32.OpenProcess"
   ]
  },
  {
   "cell_type": "code",
   "execution_count": 47,
   "metadata": {},
   "outputs": [],
   "source": [
    "read_process_memory = ctypes.windll.kernel32.ReadProcessMemory"
   ]
  },
  {
   "cell_type": "code",
   "execution_count": 48,
   "metadata": {},
   "outputs": [],
   "source": [
    "close_handle = ctypes.windll.kernel32.CloseHandle"
   ]
  },
  {
   "cell_type": "code",
   "execution_count": 115,
   "metadata": {},
   "outputs": [],
   "source": [
    "def get_pid(hwnd):\n",
    "    _, pid = win32process.GetWindowThreadProcessId(hwnd)\n",
    "    return pid"
   ]
  },
  {
   "cell_type": "markdown",
   "metadata": {},
   "source": [
    "## pid구함"
   ]
  },
  {
   "cell_type": "code",
   "execution_count": 116,
   "metadata": {},
   "outputs": [],
   "source": [
    "pid = get_pid(hwnd)"
   ]
  },
  {
   "cell_type": "code",
   "execution_count": 117,
   "metadata": {},
   "outputs": [],
   "source": [
    "from ctypes import *\n",
    "from ctypes.wintypes import *\n",
    "\n",
    "OpenProcess = windll.kernel32.OpenProcess\n",
    "ReadProcessMemory = windll.kernel32.ReadProcessMemory\n",
    "CloseHandle = windll.kernel32.CloseHandle\n",
    "\n",
    "PROCESS_ALL_ACCESS = 0x1F0FFF\n",
    "\n",
    "buffer = c_char_p(b\"0\")\n",
    "bufferSize = len(buffer.value)\n",
    "bytesRead = c_ulong(0)\n",
    "\n",
    "processHandle = OpenProcess(PROCESS_ALL_ACCESS, False, pid)\n"
   ]
  },
  {
   "cell_type": "code",
   "execution_count": 133,
   "metadata": {},
   "outputs": [
    {
     "data": {
      "text/plain": [
       "1116"
      ]
     },
     "execution_count": 133,
     "metadata": {},
     "output_type": "execute_result"
    }
   ],
   "source": [
    "pid"
   ]
  },
  {
   "cell_type": "code",
   "execution_count": 145,
   "metadata": {},
   "outputs": [],
   "source": [
    "address = 0x001a0a14"
   ]
  },
  {
   "cell_type": "code",
   "execution_count": 146,
   "metadata": {},
   "outputs": [],
   "source": [
    "def get_score():\n",
    "    if ReadProcessMemory(processHandle, address, buffer, bufferSize, byref(bytesRead)):\n",
    "        com_score = int.from_bytes(buffer.value, byteorder='little')\n",
    "        ReadProcessMemory(processHandle, address+0x04, buffer, bufferSize, byref(bytesRead))\n",
    "        my_score = int.from_bytes(buffer.value, byteorder='little')\n",
    "        ReadProcessMemory(processHandle, address+0x0C, buffer, bufferSize, byref(bytesRead))\n",
    "        flag = int.from_bytes(buffer.value, byteorder='little')\n",
    "        return com_score, my_score, flag\n",
    "    else:\n",
    "        print(\"Failed.\")"
   ]
  },
  {
   "cell_type": "code",
   "execution_count": 147,
   "metadata": {},
   "outputs": [
    {
     "data": {
      "text/plain": [
       "1706516"
      ]
     },
     "execution_count": 147,
     "metadata": {},
     "output_type": "execute_result"
    }
   ],
   "source": [
    "address"
   ]
  },
  {
   "cell_type": "code",
   "execution_count": 148,
   "metadata": {},
   "outputs": [
    {
     "data": {
      "text/plain": [
       "(100, 34, 112)"
      ]
     },
     "execution_count": 148,
     "metadata": {},
     "output_type": "execute_result"
    }
   ],
   "source": [
    "get_score()"
   ]
  },
  {
   "cell_type": "code",
   "execution_count": 149,
   "metadata": {},
   "outputs": [
    {
     "data": {
      "text/plain": [
       "c_char_p(2720043267928)"
      ]
     },
     "execution_count": 149,
     "metadata": {},
     "output_type": "execute_result"
    }
   ],
   "source": [
    "buffer"
   ]
  },
  {
   "cell_type": "code",
   "execution_count": 150,
   "metadata": {},
   "outputs": [
    {
     "data": {
      "text/plain": [
       "100"
      ]
     },
     "execution_count": 150,
     "metadata": {},
     "output_type": "execute_result"
    }
   ],
   "source": [
    "com_score"
   ]
  },
  {
   "cell_type": "markdown",
   "metadata": {},
   "source": [
    "# Key Sender"
   ]
  },
  {
   "cell_type": "code",
   "execution_count": 157,
   "metadata": {},
   "outputs": [],
   "source": [
    "import win32con\n",
    "import win32api\n",
    "import time\n",
    "import win32com.client as client"
   ]
  },
  {
   "cell_type": "code",
   "execution_count": 158,
   "metadata": {},
   "outputs": [],
   "source": [
    "shell = client.Dispatch(\"WScript.Shell\")"
   ]
  },
  {
   "cell_type": "code",
   "execution_count": 161,
   "metadata": {},
   "outputs": [],
   "source": [
    "time.sleep(3)\n",
    "shell.SendKeys(\"\")\n",
    "shell.SendKeys(\"A\")\n",
    "shell.SendKeys(\"A\")"
   ]
  },
  {
   "cell_type": "code",
   "execution_count": 166,
   "metadata": {},
   "outputs": [
    {
     "ename": "TypeError",
     "evalue": "an integer is required (got type str)",
     "output_type": "error",
     "traceback": [
      "\u001b[1;31m---------------------------------------------------------------------------\u001b[0m",
      "\u001b[1;31mTypeError\u001b[0m                                 Traceback (most recent call last)",
      "\u001b[1;32m<timed exec>\u001b[0m in \u001b[0;36m<module>\u001b[1;34m()\u001b[0m\n",
      "\u001b[1;31mTypeError\u001b[0m: an integer is required (got type str)"
     ]
    }
   ],
   "source": [
    "%%time\n",
    "for i in range(100):\n",
    "    win32api.keybd_event(\"{ENTER}\", 0, 0, 0)"
   ]
  },
  {
   "cell_type": "code",
   "execution_count": 165,
   "metadata": {},
   "outputs": [
    {
     "name": "stdout",
     "output_type": "stream",
     "text": [
      "Wall time: 11 ms\n"
     ]
    }
   ],
   "source": [
    "%%time\n",
    "for i in range(100):\n",
    "    shell.SendKeys(1)"
   ]
  },
  {
   "cell_type": "code",
   "execution_count": 197,
   "metadata": {},
   "outputs": [],
   "source": [
    "class Action:\n",
    "    def __init__(self, config):\n",
    "        self.shell = client.Dispatch('WScript.Shell')\n",
    "        self.window_name = config.window_name\n",
    "        self.interval_time = config.interval_time\n",
    "        self.key_map = {0: 0x0D, # enter\n",
    "                        1: 0x26, # up arrow\n",
    "                        2: 0x28, # down arrow\n",
    "                        3: 0x25, # left arrow\n",
    "                        4: 0x27, # right arrow\n",
    "                       }\n",
    "        \n",
    "    def send_key(self, key_num):\n",
    "        \"\"\"\n",
    "        :param key_num: 입력 키의 조합\n",
    "            0: SPIKE\n",
    "            1: UP\n",
    "            2: DOWN\n",
    "            3: LEFT\n",
    "            4: RIGHT\n",
    "            5: LEFT & SPIKE\n",
    "            6: UP & SPIKE\n",
    "            7: RIGHT & SPIKE\n",
    "            8: DOWN & SPIKE\n",
    "            9: UP & LEFT & SPIKE\n",
    "            10: UP & RIGHT & SPIKE\n",
    "        \"\"\"\n",
    "        # Activate pika window\n",
    "        self.shell.AppActivate(self.window_name)\n",
    "        \n",
    "        # 하나의 키일 때\n",
    "        if key_num < 5:\n",
    "            win32api.keybd_event(self.key_map[key_num], 0, 0, 0)\n",
    "            return\n",
    "        \n",
    "        # key_num 5 : Left & Spike\n",
    "        elif key_num == 5:\n",
    "            win32api.keybd_event(self.key_map[3], 0, 0, 0)\n",
    "            time.sleep(self.interval_time)\n",
    "            win32api.keybd_event(self.key_map[0], 0, 0, 0)\n",
    "            time.sleep(self.interval_time)\n",
    "            win32api.keybd_event(self.key_map[3], 0, win32con.KEYEVENTF_KEYUP, 0)\n",
    "            time.sleep(self.interval_time)\n",
    "            win32api.keybd_event(self.key_map[0], 0, win32con.KEYEVENTF_KEYUP, 0)\n",
    "            time.sleep(self.interval_time)\n",
    "            return\n",
    "        \n",
    "        # key_num 7 : Right & Spike\n",
    "        elif key_num == 7:\n",
    "            win32api.keybd_event(self.key_map[4], 0, 0, 0)\n",
    "            time.sleep(self.interval_time)\n",
    "            win32api.keybd_event(self.key_map[0], 0, 0, 0)\n",
    "            time.sleep(self.interval_time)\n",
    "            win32api.keybd_event(self.key_map[4], 0, win32con.KEYEVENTF_KEYUP, 0)\n",
    "            time.sleep(self.interval_time)\n",
    "            win32api.keybd_event(self.key_map[0], 0, win32con.KEYEVENTF_KEYUP, 0)\n",
    "            time.sleep(self.interval_time)\n",
    "            return\n",
    "        \n",
    "        # key_num 8 : Down & Spike\n",
    "        elif key_num == 8:\n",
    "            win32api.keybd_event(self.key_map[2], 0, 0, 0)\n",
    "            time.sleep(self.interval_time)\n",
    "            win32api.keybd_event(self.key_map[0], 0, 0, 0)\n",
    "            time.sleep(self.interval_time)\n",
    "            win32api.keybd_event(self.key_map[2], 0, win32con.KEYEVENTF_KEYUP, 0)\n",
    "            time.sleep(self.interval_time)\n",
    "            win32api.keybd_event(self.key_map[0], 0, win32con.KEYEVENTF_KEYUP, 0)\n",
    "            time.sleep(self.interval_time)\n",
    "            return\n",
    "        \n",
    "        # key_num 9 : Up & Left & Spike\n",
    "        elif key_num == 9:\n",
    "            win32api.keybd_event(self.key_map[1], 0, 0, 0)\n",
    "            time.sleep(self.interval_time)\n",
    "            win32api.keybd_event(self.key_map[3], 0, 0, 0)\n",
    "            time.sleep(self.interval_time)\n",
    "            win32api.keybd_event(self.key_map[0], 0, 0, 0)\n",
    "            time.sleep(self.interval_time)\n",
    "            win32api.keybd_event(self.key_map[1], 0, win32con.KEYEVENTF_KEYUP, 0)\n",
    "            time.sleep(self.interval_time)\n",
    "            win32api.keybd_event(self.key_map[3], 0, win32con.KEYEVENTF_KEYUP, 0)\n",
    "            time.sleep(self.interval_time)\n",
    "            win32api.keybd_event(self.key_map[0], 0, win32con.KEYEVENTF_KEYUP, 0)\n",
    "            time.sleep(self.interval_time)\n",
    "            return\n",
    "        \n",
    "        # key_num 10 : Up & Right & Spike\n",
    "        elif key_num == 9:\n",
    "            win32api.keybd_event(self.key_map[1], 0, 0, 0)\n",
    "            time.sleep(self.interval_time)\n",
    "            win32api.keybd_event(self.key_map[4], 0, 0, 0)\n",
    "            time.sleep(self.interval_time)\n",
    "            win32api.keybd_event(self.key_map[0], 0, 0, 0)\n",
    "            time.sleep(self.interval_time)\n",
    "            win32api.keybd_event(self.key_map[1], 0, win32con.KEYEVENTF_KEYUP, 0)\n",
    "            time.sleep(self.interval_time)\n",
    "            win32api.keybd_event(self.key_map[4], 0, win32con.KEYEVENTF_KEYUP, 0)\n",
    "            time.sleep(self.interval_time)\n",
    "            win32api.keybd_event(self.key_map[0], 0, win32con.KEYEVENTF_KEYUP, 0)\n",
    "            time.sleep(self.interval_time)\n",
    "            return\n",
    "        \n",
    "    def start_game(self):\n",
    "        # Activate pika window\n",
    "        self.shell.AppActivate(self.window_name)\n",
    "        for _ in range(3):\n",
    "            win32api.keybd_event(self.key_map[0], 0, 0, 0) # enter down\n",
    "            time.sleep(0.1)\n",
    "            win32api.keybd_event(self.key_map[0], 0, win32con.KEYEVENTF_KEYUP, 0) # enter down\n",
    "            time.sleep(0.1)\n",
    "        time.sleep(2)\n",
    "        \n",
    "    def reset_game(self):\n",
    "        # Activate pika window\n",
    "        self.shell.AppActivate(self.window_name)\n",
    "        win32api.keybd_event(0x12, 0, 0, 0) # alt\n",
    "        time.sleep(self.interval_time)\n",
    "        win32api.keybd_event(0x47, 0, 0, 0) # g\n",
    "        time.sleep(self.interval_time)\n",
    "        win32api.keybd_event(0x52, 0, 0, 0) # r\n",
    "        time.sleep(self.interval_time)\n",
    "        win32api.keybd_event(0x12, 0, win32con.KEYEVENTF_KEYUP, 0) # alt\n",
    "        time.sleep(self.interval_time)\n",
    "        win32api.keybd_event(0x47, 0, win32con.KEYEVENTF_KEYUP, 0) # g\n",
    "        time.sleep(self.interval_time)\n",
    "        win32api.keybd_event(0x52, 0, win32con.KEYEVENTF_KEYUP, 0) # r\n",
    "        time.sleep(self.interval_time)\n",
    "        self.start_game()"
   ]
  },
  {
   "cell_type": "code",
   "execution_count": 184,
   "metadata": {},
   "outputs": [],
   "source": [
    "class Config:\n",
    "    def __init__(self):\n",
    "        self.interval_time = 0.1\n",
    "        self.window_name = window_name"
   ]
  },
  {
   "cell_type": "code",
   "execution_count": 185,
   "metadata": {},
   "outputs": [],
   "source": [
    "action = Action(Config())"
   ]
  },
  {
   "cell_type": "code",
   "execution_count": 198,
   "metadata": {},
   "outputs": [],
   "source": [
    "action.reset_game()"
   ]
  },
  {
   "cell_type": "markdown",
   "metadata": {},
   "source": [
    "# Memory Reader"
   ]
  },
  {
   "cell_type": "code",
   "execution_count": 199,
   "metadata": {},
   "outputs": [],
   "source": [
    "import ctypes\n",
    "import win32process"
   ]
  },
  {
   "cell_type": "code",
   "execution_count": 203,
   "metadata": {},
   "outputs": [],
   "source": [
    "_, pid = win32process.GetWindowThreadProcessId(hwnd)"
   ]
  },
  {
   "cell_type": "code",
   "execution_count": 205,
   "metadata": {},
   "outputs": [],
   "source": [
    "read_process_memory = ctypes.windll.kernel32.ReadProcessMemory"
   ]
  },
  {
   "cell_type": "code",
   "execution_count": 232,
   "metadata": {},
   "outputs": [
    {
     "ename": "error",
     "evalue": "(126, 'GetModuleHandle', '지정된 모듈을 찾을 수 없습니다.')",
     "output_type": "error",
     "traceback": [
      "\u001b[1;31m---------------------------------------------------------------------------\u001b[0m",
      "\u001b[1;31merror\u001b[0m                                     Traceback (most recent call last)",
      "\u001b[1;32m<ipython-input-232-c891abfc688c>\u001b[0m in \u001b[0;36m<module>\u001b[1;34m()\u001b[0m\n\u001b[1;32m----> 1\u001b[1;33m \u001b[0maddress\u001b[0m \u001b[1;33m=\u001b[0m \u001b[0mwin32api\u001b[0m\u001b[1;33m.\u001b[0m\u001b[0mGetModuleHandle\u001b[0m\u001b[1;33m(\u001b[0m\u001b[1;34m\"뫮먰귃궔궭귙?갏?拒걍艱微뺂( 긹??붎 )\"\u001b[0m\u001b[1;33m)\u001b[0m\u001b[1;33m\u001b[0m\u001b[0m\n\u001b[0m",
      "\u001b[1;31merror\u001b[0m: (126, 'GetModuleHandle', '지정된 모듈을 찾을 수 없습니다.')"
     ]
    }
   ],
   "source": [
    "address = win32api.GetModuleHandle(\"뫮먰귃궔궭귙?갏?拒걍艱微뺂( 긹??붎 )\")"
   ]
  },
  {
   "cell_type": "code",
   "execution_count": 222,
   "metadata": {},
   "outputs": [],
   "source": [
    "open_process = ctypes.windll.kernel32.OpenProcess"
   ]
  },
  {
   "cell_type": "code",
   "execution_count": 223,
   "metadata": {},
   "outputs": [],
   "source": [
    "process_handle = open_process(0xFFF, False, pid)"
   ]
  },
  {
   "cell_type": "code",
   "execution_count": 224,
   "metadata": {},
   "outputs": [],
   "source": [
    "buffer = ctypes.c_char_p(b\"0\")"
   ]
  },
  {
   "cell_type": "code",
   "execution_count": 227,
   "metadata": {},
   "outputs": [
    {
     "data": {
      "text/plain": [
       "0"
      ]
     },
     "execution_count": 227,
     "metadata": {},
     "output_type": "execute_result"
    }
   ],
   "source": [
    "read_process_memory(process_handle, address, buffer, len(buffer.value), ctypes.byref(ctypes.c_ulong(0)))"
   ]
  },
  {
   "cell_type": "code",
   "execution_count": 234,
   "metadata": {},
   "outputs": [
    {
     "ename": "error",
     "evalue": "(87, 'OpenProcess', '매개 변수가 틀립니다.')",
     "output_type": "error",
     "traceback": [
      "\u001b[1;31m---------------------------------------------------------------------------\u001b[0m",
      "\u001b[1;31merror\u001b[0m                                     Traceback (most recent call last)",
      "\u001b[1;32m<ipython-input-234-d3f5007e0ea6>\u001b[0m in \u001b[0;36m<module>\u001b[1;34m()\u001b[0m\n\u001b[0;32m      3\u001b[0m \u001b[1;33m\u001b[0m\u001b[0m\n\u001b[0;32m      4\u001b[0m \u001b[0mPROCESS_ALL_ACCESS\u001b[0m \u001b[1;33m=\u001b[0m \u001b[1;36m0xFFF\u001b[0m\u001b[1;33m\u001b[0m\u001b[0m\n\u001b[1;32m----> 5\u001b[1;33m \u001b[0mprocessHandle\u001b[0m \u001b[1;33m=\u001b[0m \u001b[0mwin32api\u001b[0m\u001b[1;33m.\u001b[0m\u001b[0mOpenProcess\u001b[0m\u001b[1;33m(\u001b[0m\u001b[0mPROCESS_ALL_ACCESS\u001b[0m\u001b[1;33m,\u001b[0m \u001b[1;32mFalse\u001b[0m\u001b[1;33m,\u001b[0m \u001b[0mpid\u001b[0m\u001b[1;33m)\u001b[0m\u001b[1;33m\u001b[0m\u001b[0m\n\u001b[0m\u001b[0;32m      6\u001b[0m \u001b[0mmodules\u001b[0m \u001b[1;33m=\u001b[0m \u001b[0mwin32process\u001b[0m\u001b[1;33m.\u001b[0m\u001b[0mEnumProcessModules\u001b[0m\u001b[1;33m(\u001b[0m\u001b[0mprocessHandle\u001b[0m\u001b[1;33m)\u001b[0m\u001b[1;33m\u001b[0m\u001b[0m\n\u001b[0;32m      7\u001b[0m \u001b[0mprocessHandle\u001b[0m\u001b[1;33m.\u001b[0m\u001b[0mclose\u001b[0m\u001b[1;33m(\u001b[0m\u001b[1;33m)\u001b[0m\u001b[1;33m\u001b[0m\u001b[0m\n",
      "\u001b[1;31merror\u001b[0m: (87, 'OpenProcess', '매개 변수가 틀립니다.')"
     ]
    }
   ],
   "source": [
    "import win32process\n",
    "import win32api\n",
    "\n",
    "PROCESS_ALL_ACCESS = 0x1F0FFF\n",
    "processHandle = win32api.OpenProcess(PROCESS_ALL_ACCESS, False, pid)\n",
    "modules = win32process.EnumProcessModules(processHandle)\n",
    "processHandle.close()\n",
    "base_addr = modules[0]"
   ]
  },
  {
   "cell_type": "code",
   "execution_count": null,
   "metadata": {},
   "outputs": [],
   "source": [
    "class MemoryReader:\n",
    "    def __init__(self, address, handler):\n",
    "        \"\"\"\n",
    "        :param address: 가져올 기준 주소\n",
    "        :param handler: 윈도우 핸들러\n",
    "        \"\"\"\n",
    "        self.address = address\n",
    "        self.handler = handler\n",
    "        self.pid = self.get_pid(handler)\n",
    "    \n",
    "    def get_pid(self, handler):\n",
    "        _, pid = win32process.GetWindowThreadProcessId(handler)\n",
    "        return pid\n",
    "    \n",
    "    def get_score(self):\n",
    "        "
   ]
  }
 ],
 "metadata": {
  "kernelspec": {
   "display_name": "Python 3",
   "language": "python",
   "name": "python3"
  },
  "language_info": {
   "codemirror_mode": {
    "name": "ipython",
    "version": 3
   },
   "file_extension": ".py",
   "mimetype": "text/x-python",
   "name": "python",
   "nbconvert_exporter": "python",
   "pygments_lexer": "ipython3",
   "version": "3.6.5"
  }
 },
 "nbformat": 4,
 "nbformat_minor": 2
}
